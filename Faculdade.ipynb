{
  "nbformat": 4,
  "nbformat_minor": 0,
  "metadata": {
    "colab": {
      "provenance": [],
      "authorship_tag": "ABX9TyMo/P5ljQfgT2SAk7gqzXaW",
      "include_colab_link": true
    },
    "kernelspec": {
      "name": "python3",
      "display_name": "Python 3"
    },
    "language_info": {
      "name": "python"
    }
  },
  "cells": [
    {
      "cell_type": "markdown",
      "metadata": {
        "id": "view-in-github",
        "colab_type": "text"
      },
      "source": [
        "<a href=\"https://colab.research.google.com/github/Mateusoliver10/Aulas-Python/blob/main/Faculdade.ipynb\" target=\"_parent\"><img src=\"https://colab.research.google.com/assets/colab-badge.svg\" alt=\"Open In Colab\"/></a>"
      ]
    },
    {
      "cell_type": "markdown",
      "source": [
        "**ATIVIDADE AULA 1**"
      ],
      "metadata": {
        "id": "MaBu8ff7XWMg"
      }
    },
    {
      "cell_type": "code",
      "source": [
        "#1- Faça um programa em Python que escreva a mensagem “Análise e desenvolvimento de sistemas – Cruzeiro do Sul” na tela.\n",
        "\n",
        "print(\"análise e desenvolvimento de sistemas - cruzeiro do sul\")"
      ],
      "metadata": {
        "id": "T-gj9hINXbgi"
      },
      "execution_count": null,
      "outputs": []
    },
    {
      "cell_type": "code",
      "source": [
        "#2- Faça um programa em Python que solicite ao usuário a sua profissão e mostre na tela a informação digitada.\n",
        "\n",
        "print(\"Por favor, escreva sua profissão\")\n",
        "\n",
        "resposta = input(\"Qual sua profissão? \")\n",
        "\n",
        "print(\"você digitou \" + resposta)"
      ],
      "metadata": {
        "id": "NGcSFn6YXjrZ"
      },
      "execution_count": null,
      "outputs": []
    },
    {
      "cell_type": "code",
      "source": [
        "#3- Faça um programa em Python que solicite ao usuário a sua idade e apresente a informação na tela.\n",
        "\n",
        "print(\"Informe-nos sua idade\")\n",
        "\n",
        "resposta = input(\"qual a sua idade? \")\n",
        "\n",
        "print(\"sua idade é \" + resposta)"
      ],
      "metadata": {
        "id": "xjV7UppzXo1h"
      },
      "execution_count": null,
      "outputs": []
    },
    {
      "cell_type": "code",
      "source": [
        "#4- Faça um programa em Python que solicite o último sobrenome do usuário e mostre na tela a mensagem:“Família” e na sequência o sobrenome digitado.\n",
        "\n",
        "print(\"informe-nos o seu último sobrenome\")\n",
        "\n",
        "resposta = input(\"digite o sobrenome: \")\n",
        "\n",
        "print(\"Família \" + resposta)"
      ],
      "metadata": {
        "id": "dNfNRIw7XuQq"
      },
      "execution_count": null,
      "outputs": []
    },
    {
      "cell_type": "code",
      "source": [
        "#5- Faça um programa em Python que solicite o esporte favorito de uma pessoa e apresente-o na tela.\n",
        "\n",
        "print(\"Informe-nos seu esporte favorito\")\n",
        "\n",
        "resposta = input(\"esporte favorito: \")\n",
        "\n",
        "print(\"seu esporte favorito é \" + resposta)"
      ],
      "metadata": {
        "id": "MZ8_TgMdXzwE"
      },
      "execution_count": null,
      "outputs": []
    },
    {
      "cell_type": "markdown",
      "source": [
        "**AULA 07/03**"
      ],
      "metadata": {
        "id": "xe3uA1ytX4vL"
      }
    },
    {
      "cell_type": "code",
      "execution_count": null,
      "metadata": {
        "colab": {
          "base_uri": "https://localhost:8080/"
        },
        "id": "DFSdZCCS2wvY",
        "outputId": "bd785039-5f1d-4c4a-ab8d-e71658aaeb06"
      },
      "outputs": [
        {
          "output_type": "stream",
          "name": "stdout",
          "text": [
            "qual é o primeiro número 10\n",
            "qual é o segundo número 5\n",
            "a media dos valores é 7.5\n"
          ]
        }
      ],
      "source": [
        "numero1 = float(input('qual é o primeiro número '))\n",
        "numero2 = float(input('qual é o segundo número '))\n",
        "media = (numero1 + numero2)/2\n",
        "print('a media dos valores é', media)"
      ]
    },
    {
      "cell_type": "code",
      "source": [
        "print(10+20*30)\n",
        "print(42/30)\n",
        "print((94+2)*6-1)"
      ],
      "metadata": {
        "colab": {
          "base_uri": "https://localhost:8080/"
        },
        "id": "fK9oHutv6OLt",
        "outputId": "c1628a63-8a13-4c7c-eb32-6ba909e4d4c8"
      },
      "execution_count": null,
      "outputs": [
        {
          "output_type": "stream",
          "name": "stdout",
          "text": [
            "610\n",
            "1.4\n",
            "575\n"
          ]
        }
      ]
    },
    {
      "cell_type": "code",
      "source": [
        "numero1= float(input('digite o primeiro numero '))\n",
        "numero2= float(input('digite o segundo numero '))\n",
        "print('a média dos valores é:', (numero1+numero2)/2)\n"
      ],
      "metadata": {
        "colab": {
          "base_uri": "https://localhost:8080/"
        },
        "id": "E1-f65hh9jYP",
        "outputId": "a35ab764-fd07-46f4-9363-6b05f6fe758a"
      },
      "execution_count": null,
      "outputs": [
        {
          "output_type": "stream",
          "name": "stdout",
          "text": [
            "digite o primeiro numero 5\n",
            "digite o segundo numero 5\n",
            "a média dos valores é: 5.0\n"
          ]
        }
      ]
    },
    {
      "cell_type": "code",
      "source": [
        "numero1= 5\n",
        "numero2= 10\n",
        "media= (numero1+numero2)/2\n",
        "print('primeira nota= %.2f  Segunda nota= %.2f' %(numero1,numero2))\n",
        "print(\"media\", media)"
      ],
      "metadata": {
        "colab": {
          "base_uri": "https://localhost:8080/"
        },
        "id": "uRh1S_7qAopT",
        "outputId": "e2bdf2f6-ef50-4b53-f811-1985c3678dae"
      },
      "execution_count": null,
      "outputs": [
        {
          "output_type": "stream",
          "name": "stdout",
          "text": [
            "primeira nota= 5.00  Segunda nota= 10.00\n",
            "media 7.5\n"
          ]
        }
      ]
    },
    {
      "cell_type": "code",
      "source": [
        "num = int(input(\"digite o numero inteiro de três dígitos \"))\n",
        "d1 = num // 100\n",
        "d2 = num % 100 // 10\n",
        "d3 = num % 10\n",
        "inverso = d3 * 100 + d2 * 10 + d1\n",
        "print('o inverso de %d é %d' % (num, inverso))"
      ],
      "metadata": {
        "colab": {
          "base_uri": "https://localhost:8080/"
        },
        "id": "g0wv7fzxCPIW",
        "outputId": "f4483fe0-2789-4d23-9473-f8e92ed0cf90"
      },
      "execution_count": null,
      "outputs": [
        {
          "output_type": "stream",
          "name": "stdout",
          "text": [
            "digite o numero inteiro de três dígitos 569\n",
            "o inverso de 569 é 965\n"
          ]
        }
      ]
    },
    {
      "cell_type": "code",
      "source": [
        "import math\n",
        "num = float(input('digite um numero '))\n",
        "raiz = math.sqrt(num)\n",
        "print('a raiz quadrada de %1.f é %1.f.' % (num, raiz))"
      ],
      "metadata": {
        "colab": {
          "base_uri": "https://localhost:8080/"
        },
        "id": "JsuKd4k-EqvF",
        "outputId": "68d28b44-e663-403b-8808-cfb2081ecdbd"
      },
      "execution_count": null,
      "outputs": [
        {
          "output_type": "stream",
          "name": "stdout",
          "text": [
            "digite um numero 81\n",
            "a raiz quadrada de 81 é 9.\n"
          ]
        }
      ]
    },
    {
      "cell_type": "code",
      "source": [
        "import math\n",
        "num= float(input('digite um numero real:'))\n",
        "print('absoluto:', math.fabs(num))\n",
        "print('parte inteira:', math.floor(num))\n",
        "print('raiz quadrada:', math.sqrt(math.fabs(num)))\n",
        "print('fatorial:', math.factorial(math.floor(math.fabs(num))))"
      ],
      "metadata": {
        "colab": {
          "base_uri": "https://localhost:8080/"
        },
        "id": "jazPWMaxIt66",
        "outputId": "c24cc687-de1b-4815-a68b-6d88099b7bfc"
      },
      "execution_count": null,
      "outputs": [
        {
          "output_type": "stream",
          "name": "stdout",
          "text": [
            "digite um numero real:9\n",
            "absoluto: 9.0\n",
            "parte inteira: 9\n",
            "raiz quadrada: 3.0\n",
            "fatorial: 362880\n"
          ]
        }
      ]
    },
    {
      "cell_type": "code",
      "source": [
        "import math\n",
        "raio = float(input('digite o raio de uma circunferência '))\n",
        "area = math.pi * raio ** 2\n",
        "perimetro = 2 * math.pi * raio\n",
        "print(f\"area: {area}: perimetro: {perimetro}\")"
      ],
      "metadata": {
        "colab": {
          "base_uri": "https://localhost:8080/"
        },
        "id": "BwT3LrfEMPQR",
        "outputId": "91685b5e-3640-48c8-f605-a885ac80c1d1"
      },
      "execution_count": null,
      "outputs": [
        {
          "output_type": "stream",
          "name": "stdout",
          "text": [
            "digite o raio de uma circunferência 8\n",
            "area: 201.06192982974676: perimetro: 50.26548245743669\n"
          ]
        }
      ]
    },
    {
      "cell_type": "code",
      "source": [
        "import math\n",
        "sombra = float(input('digite o comprimento da sombra do prédio: '))\n",
        "angulo = float(input('qual o angulo da sombra: '))\n",
        "angulo = math.radians(angulo)\n",
        "altura = math.tan(angulo) * sombra\n",
        "print (\"a altura do prédio é \", altura)\n"
      ],
      "metadata": {
        "colab": {
          "base_uri": "https://localhost:8080/"
        },
        "id": "FlUOFNQoO_GF",
        "outputId": "3b8f338b-2d8a-438c-de7c-1b8d7cf6f406"
      },
      "execution_count": null,
      "outputs": [
        {
          "output_type": "stream",
          "name": "stdout",
          "text": [
            "digite o comprimento da sombra do prédio: 100\n",
            "qual o angulo da sombra: 15\n",
            "a altura do prédio é  26.79491924311227\n"
          ]
        }
      ]
    },
    {
      "cell_type": "markdown",
      "source": [
        "**ATIVIDADE AULA 2**"
      ],
      "metadata": {
        "id": "0U_8xYCKYZRU"
      }
    },
    {
      "cell_type": "code",
      "source": [
        "#1- Desenvolva um programa em Python que solicite ao usuário os valores dos lados de um retângulo. A seguir, calcule e mostre os valores de seu perímetro e de sua área.\n",
        "\n",
        "B= float(input(\"Digite aqui a base do retângulo \"))\n",
        "A= float(input(\"Digite aqui a altura do retângulo \"))\n",
        "\n",
        "P= 2*(B+A)\n",
        "H= (B*A)\n",
        "\n",
        "print(\"o perímetro do retângulo é:\",P)\n",
        "print(\"a área do retângulo é:\", H)"
      ],
      "metadata": {
        "id": "GGUgUxHsYy3J"
      },
      "execution_count": null,
      "outputs": []
    },
    {
      "cell_type": "code",
      "source": [
        "#2- Escreva um programa em Python que solicite ao usuário o salário atual e mostre o salário acrescido de 5% comissão.\n",
        "\n",
        "Salário= float(input(\"Digite aqui o seu salário\")\n",
        "Comissão= Salário*0.05\n",
        "\n",
        "print(\"o salário com acréscimo será de:\", Salário + Comissão)"
      ],
      "metadata": {
        "id": "JLT1ExgtY9Kl"
      },
      "execution_count": null,
      "outputs": []
    },
    {
      "cell_type": "code",
      "source": [
        "#3- Escreva um programa em Python que solicite ao usuário a distância entre duas cidades e o tempo de viagem.\n",
        "#O programa deverá calcular e exibir a velocidade média de um carro que vai de uma cidade para outra. Lembre-se de que:\n",
        "#Vm = distância/tempo\n",
        "\n",
        "Distancia = float(input(\"Digite aqui a distancia da cidade de São Paulo e Santos \"))\n",
        "Tempo = float(input(\"Digite aqui o tempo de viagem \"))\n",
        "Velocidade = Distancia/Tempo\n",
        "\n",
        "print(\"A velocidade média da viagem é de:\", Velocidade, \"KM/h\")"
      ],
      "metadata": {
        "id": "55ILbhtbZFKE"
      },
      "execution_count": null,
      "outputs": []
    },
    {
      "cell_type": "code",
      "source": [
        "#4- Escreva um programa em Python que calcule as duas raízes de uma equação de 2º grau ax²+bx+c,\n",
        "#recebendo os valores dos coeficientes da mesma (a, b, c). Suponha que as raízes são reais.\n",
        "#Lembre-se de que para calcular as duas raízes usamos a Fórmula de Báskara\n",
        "\n",
        "import math\n",
        "\n",
        "a = float(input(\"digite aqui um número: \"))\n",
        "b = float(input(\"digite aqui um número: \"))\n",
        "c = float(input(\"digite aqui um número: \"))\n",
        "\n",
        "Delta= (b*b) -4*a* -abs(c)\n",
        "\n",
        "print(\"o valor de Delta é:\", Delta)\n",
        "\n",
        "x1= -b + math.sqrt(Delta)/ (2*a)\n",
        "x2= -b - math.sqrt(Delta)/ (2*a)\n",
        "\n",
        "print(\"resultado do baskhara é:\", x1, \"e\", x2)"
      ],
      "metadata": {
        "id": "jEq6akK7Zcar"
      },
      "execution_count": null,
      "outputs": []
    },
    {
      "cell_type": "code",
      "source": [
        "#5- Escreva um programa em Python que leia a cotação do dólar (taxa de conversão), leia um valor em dólares e converta e mostre o valor equivalente em Reais.\n",
        "\n",
        "real= float(input(\"digite o valor em Real \"))\n",
        "cotação= float(input(\"digite aqui a cotação \"))\n",
        "dolar= real*cotação\n",
        "\n",
        "print(\"O valor do dolar é de:\", dolar)"
      ],
      "metadata": {
        "id": "Mr2X2dkDZuNI"
      },
      "execution_count": null,
      "outputs": []
    },
    {
      "cell_type": "code",
      "source": [
        "#6- Escreva um programa em Python que leia um valor representando o gasto realizado por um cliente do restaurante Coma Bem e visualize o valor total a ser pago, considerando os 10% do garçom.\n",
        "\n",
        "Conta= float(input(\"Valor da conta do restaurante \"))\n",
        "comissão= Conta*0.10\n",
        "\n",
        "print(\"O valor da conta mais a comissão é de:\", comissão + Conta)"
      ],
      "metadata": {
        "id": "xjtf1AH1Z1nK"
      },
      "execution_count": null,
      "outputs": []
    },
    {
      "cell_type": "code",
      "source": [
        "#7- Escreva um programa em Python que obtenha uma temperatura em graus Celsius, calcule e mostre a respectiva temperatura nas escalas Fahrenheit e Kelvin.\n",
        "\n",
        "celsius= float(input(\"Digite a temperatura em celsius \"))\n",
        "fahrenheit= (1.8*celsius)+32\n",
        "kelvin= celsius+273\n",
        "\n",
        "print(\"a temperatura em fahrenheit é de:\", fahrenheit)\n",
        "print(\"a temperatura em kelvin é de:\", kelvin)"
      ],
      "metadata": {
        "id": "f1qJzbkfZ-Sx"
      },
      "execution_count": null,
      "outputs": []
    },
    {
      "cell_type": "markdown",
      "source": [
        "**AULA 21/03**"
      ],
      "metadata": {
        "id": "C3ueLAQOZPPM"
      }
    },
    {
      "cell_type": "code",
      "source": [
        "diarias = int(input(\"Qual a quantidade de diárias? \"))\n",
        "tipo = input(\"Qual o tipo de diária (S, D ou T)? \")\n",
        "if tipo == \"s\" or tipo == \"S\":\n",
        "  print(\"O valor da estadia é R$%.2f.\"% (diarias * 255.5))\n",
        "elif tipo == \"d\" or tipo == \"D\":\n",
        "  print(\"O valor da estadia é R$%.2f.\"% (diarias * 305.5))\n",
        "elif tipo == \"t\" or tipo == \"T\":\n",
        "  print(\"O valor da estadia é R$%.2f.\"% (diarias * 360.5))\n",
        "else:\n",
        "  print(\"Tipo de diária inválido.\")"
      ],
      "metadata": {
        "colab": {
          "base_uri": "https://localhost:8080/"
        },
        "id": "hA9hDOWEBkjA",
        "outputId": "a37f6ea3-e9be-4583-acd1-5a6a6c7bc650"
      },
      "execution_count": null,
      "outputs": [
        {
          "output_type": "stream",
          "name": "stdout",
          "text": [
            "Qual a quantidade de diárias? 2\n",
            "Qual o tipo de diária (S, D ou T)? s\n",
            "O valor da estadia é R$511.00.\n"
          ]
        }
      ]
    },
    {
      "cell_type": "code",
      "source": [
        "num1 = int(input(\"Digite o primeiro número: \"))\n",
        "num2 = int(input(\"Digite o segundo número: \"))\n",
        "num3 = int(input(\"Digite o terceiro número: \"))\n",
        "if num1 > num2 and num1 > num3:\n",
        "  print(\"O primeiro número é o maior\")\n",
        "elif num2 > num1 and num2> num3:\n",
        "  print(\"O segundo número é o maior\")\n",
        "else:\n",
        "  print(\"O terceiro número é o maior\")"
      ],
      "metadata": {
        "colab": {
          "base_uri": "https://localhost:8080/"
        },
        "id": "d_JeLJfmIr_t",
        "outputId": "76198a5f-bfbc-4618-f49c-b4c6018704ac"
      },
      "execution_count": null,
      "outputs": [
        {
          "output_type": "stream",
          "name": "stdout",
          "text": [
            "Digite o primeiro número: 1\n",
            "Digite o segundo número: 2\n",
            "Digite o terceiro número: 3\n",
            "O terceiro número é o maior\n"
          ]
        }
      ]
    },
    {
      "cell_type": "code",
      "source": [
        "idade = int(input(\"Digite a sua idade: \"))\n",
        "if idade >= 18:\n",
        "  print(\"Você já pode tirar sua habilitação!\")\n",
        "else:\n",
        "    print(\"Você ainda não pode tirar sua habilitação\")"
      ],
      "metadata": {
        "colab": {
          "base_uri": "https://localhost:8080/"
        },
        "id": "cnGAOaTIKWcC",
        "outputId": "9ba4b733-0eb3-4c96-be77-8b075ec51676"
      },
      "execution_count": null,
      "outputs": [
        {
          "output_type": "stream",
          "name": "stdout",
          "text": [
            "Digite a sua idade: 15\n",
            "Você ainda não pode tirar sua hbailitação\n"
          ]
        }
      ]
    },
    {
      "cell_type": "code",
      "source": [
        "nota1 = float(input(\"Digite aqui sua primeira nota: \"))\n",
        "nota2 = float(input(\"Digite aqui sua segunda nota: \"))\n",
        "media = (nota1+nota2)/2\n",
        "if media >= 7:\n",
        "  print(f\"Parabéns, você está aprovado com nota {media}!\")\n",
        "else:\n",
        "  print(f\"Você está reprovado com nota {media}!\")"
      ],
      "metadata": {
        "id": "RK1XLBisLYMY"
      },
      "execution_count": null,
      "outputs": []
    },
    {
      "cell_type": "code",
      "source": [
        "peso = float(input(\"Digite aqui o seu peso: \"))\n",
        "altura = float(input(\"Digite aqui a sua altura: \"))\n",
        "IMC = peso/(altura**2)\n",
        "if IMC < 20:\n",
        "  print(f\"Você está abaixo do peso com IMC de {IMC:.2f}!\")\n",
        "elif IMC < 25:\n",
        "  print(f\"Você tem um peso normal com IMC de {IMC:.2f}\")\n",
        "elif IMC < 30:\n",
        "  print(f\"Você está com sobrepeso com IMC de {IMC:.2f}\")\n",
        "elif IMC < 40:\n",
        "  print(f\"Você está obeso com IMC de {IMC:.2f}\")\n",
        "else:\n",
        "  print(f\"Você é um obeso mórbido com IMC de {IMC:.2f}\")"
      ],
      "metadata": {
        "colab": {
          "base_uri": "https://localhost:8080/"
        },
        "id": "xOFC_X9DNmBT",
        "outputId": "8b5f48fb-0946-4389-d91d-f98c1040e447"
      },
      "execution_count": null,
      "outputs": [
        {
          "output_type": "stream",
          "name": "stdout",
          "text": [
            "Digite aqui o seu peso: 73\n",
            "Digite aqui a sua altura: 1.70\n",
            "Você está com sobrepeso com IMC de 25.26\n"
          ]
        }
      ]
    },
    {
      "cell_type": "code",
      "source": [
        "valor = float(input(\"Digite aqui o valor total da compra: \"))\n",
        "parcela = int(input(\"Digite aqui a quantidade de parcelas (2-4-6-8): \"))\n",
        "\n",
        "if parcela == 2:\n",
        "  valor=valor*1.03\n",
        "elif parcela == 4:\n",
        "  valor=valor*1.07\n",
        "elif parcela == 6:\n",
        "  valor=valor*1.09\n",
        "elif parcela == 8:\n",
        "  valor=valor*1.12\n",
        "else:\n",
        "  parcela = 0\n",
        "\n",
        "if parcela == 0:\n",
        "  print('O valor de parcelas é inválido, tente novamente')\n",
        "else:\n",
        " print(f\"Sua parcela com juros é igual a R${valor/parcela:.2f}\")"
      ],
      "metadata": {
        "id": "NAr9C22rMwHv",
        "colab": {
          "base_uri": "https://localhost:8080/"
        },
        "outputId": "47ab4e0e-a204-4a95-bfbb-261753914ba0"
      },
      "execution_count": null,
      "outputs": [
        {
          "output_type": "stream",
          "name": "stdout",
          "text": [
            "Digite aqui o valor total da compra: 2000\n",
            "Digite aqui a quantidade de parcelas (2-4-6-8): 6\n",
            "Sua parcela com juros é igual a R$363.33\n"
          ]
        }
      ]
    },
    {
      "cell_type": "code",
      "source": [
        "falta = int(input(\"Digite aqui o percentual de frequencia: \"))\n",
        "nota = float(input(\"Digite aqui a nota do aluno: \"))\n",
        "\n",
        "if falta < 75:\n",
        "  print('Você está reprovado por falta')\n",
        "\n",
        "elif nota < 6:\n",
        "  print('Você está reprovado por nota')\n",
        "\n",
        "else:\n",
        "  print('Você está aprovado')"
      ],
      "metadata": {
        "colab": {
          "base_uri": "https://localhost:8080/"
        },
        "id": "plFPgcMjD1FZ",
        "outputId": "50d339ad-fc5c-40a4-fa92-2cd5ebc1be51"
      },
      "execution_count": null,
      "outputs": [
        {
          "output_type": "stream",
          "name": "stdout",
          "text": [
            "Digite aqui o percentual de frequencia: 80\n",
            "Digite aqui a nota do aluno: 8\n",
            "Você está aprovado\n"
          ]
        }
      ]
    },
    {
      "cell_type": "code",
      "source": [
        "placa = int(input(\"Digite os quatro digitos da placa do seu carro: \"))\n",
        "\n",
        "final = placa%10\n",
        "if final==1 or final==2:\n",
        "  print(\"Seu rodízio é na segunda-feira\")\n",
        "elif final==3 or final==4:\n",
        "  print(\"Seu rodízio é na terça-feira\")\n",
        "elif final==4 or final==5:\n",
        "  print(\"Seu rodízio é na quarta-feira\")\n",
        "elif final==6 or final==8:\n",
        "  print(\"Seu rodízio é na quinta-feira\")\n",
        "else:\n",
        "  print(\"Seu rodízio é na sexta-feira\")"
      ],
      "metadata": {
        "id": "3dVhDnnIXohg",
        "colab": {
          "base_uri": "https://localhost:8080/"
        },
        "outputId": "cd4c3634-faf1-451f-e871-d4661142132c"
      },
      "execution_count": null,
      "outputs": [
        {
          "output_type": "stream",
          "name": "stdout",
          "text": [
            "Digite os quatro digitos da placa do seu carro: 1234\n",
            "Seu rodízio é na terça-feira\n"
          ]
        }
      ]
    },
    {
      "cell_type": "code",
      "source": [
        "num = int(input(\"Digite um número de 4 digitos: \"))\n",
        "\n",
        "d1 = num//1000\n",
        "d2 = num%1000//100\n",
        "d3 = num%100//10\n",
        "d4 = num%10\n",
        "inverso = d4*1000+d3*100+d2*10+d1\n",
        "\n",
        "print(\"O inverso do número digitado é: \",inverso)"
      ],
      "metadata": {
        "colab": {
          "base_uri": "https://localhost:8080/"
        },
        "id": "aLehrKVo8fWU",
        "outputId": "f1d01474-5f24-4fbf-a941-570af5b829a8"
      },
      "execution_count": null,
      "outputs": [
        {
          "output_type": "stream",
          "name": "stdout",
          "text": [
            "Digite um número de 4 digitos: 1234\n",
            "O inverso do número digitado é:  4321\n"
          ]
        }
      ]
    },
    {
      "cell_type": "markdown",
      "source": [
        "**ATIVIDADE AULA 3**"
      ],
      "metadata": {
        "id": "4laUm91magud"
      }
    },
    {
      "cell_type": "code",
      "source": [
        "#1- Faça um programa em Python que calcule e mostre o valor do volume do tronco de uma pirâmide,\n",
        "#para isso o programa deve solicitar ao usuário os valores da altura do tronco da pirâmide (h), o valor da base menor (Bmenor) e o da base maior (Bmaior) e calcular a seguinte expressão:\n",
        "#volume =h/3*(Bmaior**2 + Bmenor**2 + (Bmaior**2 * Bmenor**2)**0.5)\n",
        "\n",
        "altura = float(input(\"Digite o valor da altura do tronco da pirâmide \"))\n",
        "basemaior = float(input(\"Digite o valor da base maior da pirêmide \"))\n",
        "basemenor = float(input(\"Digite o valor da base menor da pirâmide \"))\n",
        "\n",
        "volume = altura/3*(basemaior**2 + basemenor**2 + (basemaior**2 * basemenor**2)**0.5)\n",
        "\n",
        "print(f\"o valor do volume da pirâmide é de: {volume: .2f}\")"
      ],
      "metadata": {
        "id": "8Y7tsDn7apt4"
      },
      "execution_count": null,
      "outputs": []
    },
    {
      "cell_type": "code",
      "source": [
        "#2- Crie um programa em Python que solicite o valor em horas para o usuário, calcule e mostre o valor em minutos, sabendo que 1 hora tem 60 minutos.\n",
        "\n",
        "horas = int(input(\"que horas são: \"))\n",
        "minutos = horas*60\n",
        "\n",
        "print(minutos, \"minutos\")"
      ],
      "metadata": {
        "id": "J6hNjlyaa18a"
      },
      "execution_count": null,
      "outputs": []
    },
    {
      "cell_type": "code",
      "source": [
        "#3- Crie um programa em Python que solicite ao usuário a sua idade expressa em anos, meses e dias (variáveis separadas).\n",
        "#Calcule e mostre a idade expressa apenas em dias. Para isso considere 1 ano = 365 dias, 1 mês = 30 dias.\n",
        "\n",
        "anos = int(input(\"Digite a sua idade: \"))\n",
        "meses = int(input(\"Digite agora os meses: \"))\n",
        "dias = int(input(\"Digite agora os dias: \"))\n",
        "idade = (anos*365)+(meses*30)+dias\n",
        "\n",
        "print(\"sua idade em dias é:\", idade)"
      ],
      "metadata": {
        "id": "IeFb13Yna88B"
      },
      "execution_count": null,
      "outputs": []
    },
    {
      "cell_type": "code",
      "source": [
        "#4- Escreva um programa em Python para calcular o valor de uma prestação em atraso (prestacao).\n",
        "#Para isso, obtenha o valor da prestação (valorPrestacao), a porcentagem de multa pelo atraso (multa) e a quantidade de dias de atraso (qtdeDias).\n",
        "#Calcular e mostrar o valor da prestação atualizado, sabendo que: prestacao=valorPrestacao+(valorPrestacao*(multa/100)*qtdeDias)\n",
        "\n",
        "valorprestação = float(input(\"digite o valor da prestação: \"))\n",
        "porcentagem = float(input(\"digite a porcentagem da multa de atraso: \"))\n",
        "dias = int(input(\"digite a quantidade de dias de atraso: \"))\n",
        "prestação = valorprestação+(valorprestação*(porcentagem/100)*dias)\n",
        "\n",
        "print(\"O valor da prestação será de:\", prestação)"
      ],
      "metadata": {
        "id": "DedKGYqxbFcJ"
      },
      "execution_count": null,
      "outputs": []
    },
    {
      "cell_type": "code",
      "source": [
        "#5- Faça uma programa em Python que peça do usuário um valor em graus para um ângulo. Converta-o para radianos e, usando funções da biblioteca math, imprima o seno, cosseno e tangente deste ângulo.\n",
        "\n",
        "import math\n",
        "\n",
        "angulo = math.radians(float(input(\"Digite um valor de um angulo em graus: \")))\n",
        "\n",
        "seno = math.sin(angulo)\n",
        "coseno = math.cos(angulo)\n",
        "tangente = math.tan(angulo)\n",
        "\n",
        "print(f\"O seno é de {seno}, o coseno é de {coseno}, e a tangente é de {tangente}\")"
      ],
      "metadata": {
        "id": "hC5jnxXLbQem"
      },
      "execution_count": null,
      "outputs": []
    },
    {
      "cell_type": "markdown",
      "source": [
        "**AULA 04/04**"
      ],
      "metadata": {
        "id": "RHttz5xCXmRw"
      }
    },
    {
      "cell_type": "code",
      "source": [
        "animais = 'gato', 'cachorro', 'leão', 'camelo'\n",
        "for a in animais:\n",
        "  print(a, \"string de tamanho:\", len(a))\n",
        "\n",
        "sequencia = [0,1,2,3,4,5]\n",
        "for num in sequencia:\n",
        "  print(num)"
      ],
      "metadata": {
        "colab": {
          "base_uri": "https://localhost:8080/"
        },
        "id": "UyslvPBVP_Wy",
        "outputId": "2119eb63-3279-40d0-e0bf-45c9420abfdb"
      },
      "execution_count": null,
      "outputs": [
        {
          "output_type": "stream",
          "name": "stdout",
          "text": [
            "gato string de tamanho: 4\n",
            "cachorro string de tamanho: 8\n",
            "leão string de tamanho: 4\n",
            "camelo string de tamanho: 6\n"
          ]
        }
      ]
    },
    {
      "cell_type": "code",
      "source": [
        "letras = \"olhar\"\n",
        "for sequencia in letras:\n",
        "  print(sequencia,\"exemplo\",)"
      ],
      "metadata": {
        "colab": {
          "base_uri": "https://localhost:8080/"
        },
        "id": "M6HtubC31ToG",
        "outputId": "c1ae05ab-ab70-4e54-907e-014f8764bf08"
      },
      "execution_count": null,
      "outputs": [
        {
          "output_type": "stream",
          "name": "stdout",
          "text": [
            "o exemplo\n",
            "l exemplo\n",
            "h exemplo\n",
            "a exemplo\n",
            "r exemplo\n"
          ]
        }
      ]
    },
    {
      "cell_type": "code",
      "source": [
        "num = float(input(\"Digite um numero: \"))\n",
        "print(num)\n",
        "\n",
        "for numero in num:\n",
        "  print(numero + 1)"
      ],
      "metadata": {
        "colab": {
          "base_uri": "https://localhost:8080/",
          "height": 228
        },
        "id": "01gpLDQn3l-w",
        "outputId": "ad1bace3-dcbf-4c83-ff31-146037222cfc"
      },
      "execution_count": null,
      "outputs": [
        {
          "output_type": "stream",
          "name": "stdout",
          "text": [
            "Digite um numero: 10\n",
            "10.0\n"
          ]
        },
        {
          "output_type": "error",
          "ename": "TypeError",
          "evalue": "'float' object is not iterable",
          "traceback": [
            "\u001b[0;31m---------------------------------------------------------------------------\u001b[0m",
            "\u001b[0;31mTypeError\u001b[0m                                 Traceback (most recent call last)",
            "\u001b[0;32m<ipython-input-62-ef9f165f0500>\u001b[0m in \u001b[0;36m<cell line: 4>\u001b[0;34m()\u001b[0m\n\u001b[1;32m      2\u001b[0m \u001b[0mprint\u001b[0m\u001b[0;34m(\u001b[0m\u001b[0mnum\u001b[0m\u001b[0;34m)\u001b[0m\u001b[0;34m\u001b[0m\u001b[0;34m\u001b[0m\u001b[0m\n\u001b[1;32m      3\u001b[0m \u001b[0;34m\u001b[0m\u001b[0m\n\u001b[0;32m----> 4\u001b[0;31m \u001b[0;32mfor\u001b[0m \u001b[0mnumero\u001b[0m \u001b[0;32min\u001b[0m \u001b[0mnum\u001b[0m\u001b[0;34m:\u001b[0m\u001b[0;34m\u001b[0m\u001b[0;34m\u001b[0m\u001b[0m\n\u001b[0m\u001b[1;32m      5\u001b[0m   \u001b[0mprint\u001b[0m\u001b[0;34m(\u001b[0m\u001b[0mnumero\u001b[0m \u001b[0;34m+\u001b[0m \u001b[0;36m1\u001b[0m\u001b[0;34m)\u001b[0m\u001b[0;34m\u001b[0m\u001b[0;34m\u001b[0m\u001b[0m\n",
            "\u001b[0;31mTypeError\u001b[0m: 'float' object is not iterable"
          ]
        }
      ]
    },
    {
      "cell_type": "code",
      "source": [
        "nome = 'aline'\n",
        "for letras in nome:\n",
        "  print(letras)"
      ],
      "metadata": {
        "colab": {
          "base_uri": "https://localhost:8080/"
        },
        "id": "hTTzhWbeSP50",
        "outputId": "a5689fa4-7eec-46e1-f00b-3f881943ded4"
      },
      "execution_count": null,
      "outputs": [
        {
          "output_type": "stream",
          "name": "stdout",
          "text": [
            "a\n",
            "l\n",
            "i\n",
            "n\n",
            "e\n"
          ]
        }
      ]
    },
    {
      "cell_type": "code",
      "source": [
        "for i in range (10):\n",
        "  print(i, end=\" \")"
      ],
      "metadata": {
        "colab": {
          "base_uri": "https://localhost:8080/"
        },
        "id": "awa9a6Q_SXM1",
        "outputId": "1c12f4f5-585a-4841-a949-b243aa9b41b7"
      },
      "execution_count": null,
      "outputs": [
        {
          "output_type": "stream",
          "name": "stdout",
          "text": [
            "0 1 2 3 4 5 6 7 8 9 "
          ]
        }
      ]
    },
    {
      "cell_type": "code",
      "source": [
        "for i in range(2, 18, 2):\n",
        "  print(i,end=\" \")"
      ],
      "metadata": {
        "colab": {
          "base_uri": "https://localhost:8080/"
        },
        "id": "c6qvv6YDTYu5",
        "outputId": "a0ab3d89-36d4-4016-e3d8-9408214a7711"
      },
      "execution_count": null,
      "outputs": [
        {
          "output_type": "stream",
          "name": "stdout",
          "text": [
            "2 4 6 8 10 12 14 16 "
          ]
        }
      ]
    },
    {
      "cell_type": "code",
      "source": [
        "numero = int(input(\"Digite um número inteiro: \"))\n",
        "\n",
        "for valor in range(11):\n",
        "  print(\"%a x %a = %a\" % (numero, valor, numero*valor))"
      ],
      "metadata": {
        "colab": {
          "base_uri": "https://localhost:8080/"
        },
        "id": "AtTRsVHIUtfY",
        "outputId": "5e3d8128-c581-465f-ef01-0cf0e336231a"
      },
      "execution_count": null,
      "outputs": [
        {
          "output_type": "stream",
          "name": "stdout",
          "text": [
            "Digite um número inteiro: 10\n",
            "10 x 0 = 0\n",
            "10 x 1 = 10\n",
            "10 x 2 = 20\n",
            "10 x 3 = 30\n",
            "10 x 4 = 40\n",
            "10 x 5 = 50\n",
            "10 x 6 = 60\n",
            "10 x 7 = 70\n",
            "10 x 8 = 80\n",
            "10 x 9 = 90\n",
            "10 x 10 = 100\n"
          ]
        }
      ]
    },
    {
      "cell_type": "code",
      "source": [
        "print(\"Digite 10 números reais \")\n",
        "\n",
        "soma = 0\n",
        "for numeração in range(10):\n",
        " numero = float(input(\"número %d: \"% (numeração+1)))\n",
        " soma = soma + numero\n",
        "\n",
        "print(f\"A soma dos 10 números é {soma}\")"
      ],
      "metadata": {
        "colab": {
          "base_uri": "https://localhost:8080/"
        },
        "id": "E1ihBq7AWNtE",
        "outputId": "15ac97c8-bf20-4986-c8d9-4d9e34f17605"
      },
      "execution_count": null,
      "outputs": [
        {
          "output_type": "stream",
          "name": "stdout",
          "text": [
            "Digite 10 números reais \n",
            "número 1: 1\n",
            "número 2: 2\n",
            "número 3: 3\n",
            "número 4: 4\n",
            "número 5: 5\n",
            "número 6: 6\n",
            "número 7: 7\n",
            "número 8: 8\n",
            "número 9: 9\n",
            "número 10: 10\n",
            "A soma dos 10 números é 55.0\n"
          ]
        }
      ]
    },
    {
      "cell_type": "markdown",
      "source": [
        "**ATIVIDADE AULA 4**\n"
      ],
      "metadata": {
        "id": "cUDc5XQlTEgy"
      }
    },
    {
      "cell_type": "code",
      "source": [
        "#1- Escreva um algoritmo que solicite um número ao usuário. Caso seja digitado um valor entre 0 e 9, mostre:\n",
        "#“valor correto”, caso contrário mostre: “valor incorreto”.\n",
        "\n",
        "numero = int(input('Digite um número de 0 a 9: '))\n",
        "\n",
        "if numero >= 0 and numero < 10:\n",
        "  print(f\"Valor correto! Você digitou o número {numero}\")\n",
        "else:\n",
        "  print('Valor incorreto!')"
      ],
      "metadata": {
        "colab": {
          "base_uri": "https://localhost:8080/"
        },
        "id": "8KHO73YoTKYV",
        "outputId": "0a5f8a0b-9833-4241-ef14-19d96eac6a38"
      },
      "execution_count": null,
      "outputs": [
        {
          "output_type": "stream",
          "name": "stdout",
          "text": [
            "Digite um número de 0 a 9: 11\n",
            "Valor incorreto!\n"
          ]
        }
      ]
    },
    {
      "cell_type": "code",
      "source": [
        "#2- Crie um algoritmo que solicite ao usuário o seu turno de trabalho e a quantidade de horas trabalhadas,\n",
        "#calcule e mostre o valor do salário. Considere os valores de horas a seguir, de acordo com o turno de trabalho.\n",
        "#Caso o turno seja igual a ‘N’ (utilize um caractere para representar) o valor da hora trabalhada é R$ 45,00, caso contrário é R$ 37,50\n",
        "\n",
        "turno = input('Digite o seu turno de trabalho: ')\n",
        "horas = int(input('Digite a quantidade de horas de trabalho: '))\n",
        "\n",
        "\n",
        "if turno == \"N\" or turno == \"n\" or turno == \"noturno\" or turno == \"Noturno\":\n",
        "  print(f'Seu salário é de R$ {45*horas}')\n",
        "\n",
        "else:\n",
        "  print(f'Seu salário é de R$ {37.50*horas}')"
      ],
      "metadata": {
        "colab": {
          "base_uri": "https://localhost:8080/"
        },
        "id": "YwTK6pKzURf7",
        "outputId": "f1edddf1-bad2-4c44-a2dc-5859d9fe5af4"
      },
      "execution_count": null,
      "outputs": [
        {
          "output_type": "stream",
          "name": "stdout",
          "text": [
            "Digite o seu turno de trabalho: dia\n",
            "Digite a quantidade de horas de trabalho: 2\n",
            "Seu salário é de R$ 75.0\n"
          ]
        }
      ]
    },
    {
      "cell_type": "code",
      "source": [
        "#3- Faça um programa em Python que obtenha o valor de uma compra, calcular e mostrar o valor da compra considerando o desconto, conforme descrito abaixo:\n",
        "#para compras acima de R$ 200 a loja dá um desconto de 20%\n",
        "#para as abaixo disso não tem desconto, mostre o valor da compra.\n",
        "\n",
        "valor_compra = float(input(\"Digite o valor da sua compra: \"))\n",
        "\n",
        "if valor_compra <= 200:\n",
        "  valor_compra = 200 - (200*0.20)\n",
        "  print(\"Sua compra com desconto é de R$\", valor_compra)\n",
        "\n",
        "else:\n",
        "  print(\"Sua compra é de R$\", valor_compra)"
      ],
      "metadata": {
        "colab": {
          "base_uri": "https://localhost:8080/"
        },
        "id": "fgdy2cl-e6U_",
        "outputId": "829e0ea3-3ce9-46a3-e405-5736abe51654"
      },
      "execution_count": null,
      "outputs": [
        {
          "output_type": "stream",
          "name": "stdout",
          "text": [
            "Digite o valor da sua compra: 220\n",
            "Sua compra é de R$ 220.0\n"
          ]
        }
      ]
    },
    {
      "cell_type": "code",
      "source": [
        "#Escreva um programa em Python que solicite ao usuário os valores de três contas de consumo (p.ex. água, luz e telefone) e o valor de seu salário.\n",
        "#Verifique se o salário é suficiente para pagar as três contas, caso não seja apresente a mensagem “Salário insuficiente!”.\n",
        "#Caso seja, apresente o valor que restou do salário após pagar as contas.\n",
        "\n",
        "salario = float(input('Digite aqui seu salário: '))\n",
        "agua = float(input('Digite o valor da sua conta de água: '))\n",
        "luz = float(input('Digite o valor da sua conta de luz: '))\n",
        "internet = float(input('Digite o valor da sua conta de internet: '))\n",
        "contas = agua + luz + internet\n",
        "\n",
        "if salario >= contas:\n",
        "  salario -= contas\n",
        "  print(f'Sobrou R${salario} do seu salario!')\n",
        "\n",
        "else:\n",
        "  print('Salário insuficiente!')"
      ],
      "metadata": {
        "colab": {
          "base_uri": "https://localhost:8080/"
        },
        "id": "Z261x2PkgalN",
        "outputId": "6bdf656e-121a-4d15-95d1-4acfe6115e7a"
      },
      "execution_count": null,
      "outputs": [
        {
          "output_type": "stream",
          "name": "stdout",
          "text": [
            "Digite aqui seu salário: 500\n",
            "Digite o valor da sua conta de água: 200\n",
            "Digite o valor da sua conta de luz: 200\n",
            "Digite o valor da sua conta de internet: 200\n",
            "Salário insuficiente!\n"
          ]
        }
      ]
    },
    {
      "cell_type": "markdown",
      "source": [
        "**ATIVIDADE AULA 5**"
      ],
      "metadata": {
        "id": "RQquabW5ChF2"
      }
    },
    {
      "cell_type": "code",
      "source": [
        "#1- Crie um algoritmo que leia a idade de uma pessoa e informe sua classe eleitoral:\n",
        "#não-eleitor (abaixo de 16 anos)\n",
        "#eleitor obrigatório (entre 18 e 65 anos)\n",
        "#eleitor facultativo (entre 16 e 18 anos e maior de 65 anos)\n",
        "\n",
        "idade = int(input(\"Informe a sua idade: \"))\n",
        "\n",
        "if idade < 16:\n",
        "  print(\"Você não pode votar nessa eleição.\")\n",
        "\n",
        "elif idade >= 18 and idade <=65:\n",
        "  print(\"Seu voto é obrigatório nessas eleições.\")\n",
        "\n",
        "else:\n",
        "  print(\"Seu voto é facultativo nessas eleições.\")"
      ],
      "metadata": {
        "colab": {
          "base_uri": "https://localhost:8080/"
        },
        "id": "7TDT2m6JCgFU",
        "outputId": "4606d249-f135-425c-9d05-73a4fdcb51ee"
      },
      "execution_count": null,
      "outputs": [
        {
          "output_type": "stream",
          "name": "stdout",
          "text": [
            "Informe a sua idade: 16\n",
            "Seu voto é facultativo nessas eleições.\n"
          ]
        }
      ]
    },
    {
      "cell_type": "code",
      "source": [
        "#2- Leia três valores inteiros (variáveis a, b e c) e efetue o cálculo da equação de segundo grau, apresentando:\n",
        "#as duas raízes, quando for possível efetue o cálculo (delta positivo ou zero); a mensagem \"Não há raízes reais\",\n",
        "#se não for possível fazer o cálculo (delta negativo); e a mensagem \"Não é equação do segundo grau\", se o valor de a for igual a zero.\n",
        "\n",
        "import math\n",
        "\n",
        "a = int(input(\"digite o valor de A: \"))\n",
        "b = int(input(\"digite o valor de B: \"))\n",
        "c = int(input(\"digite o valor de C: \"))\n",
        "\n",
        "delta = (b**2)-4*a*c\n",
        "if delta<0:\n",
        "  print(\"Não há raízes reais\")\n",
        "elif a == 0:\n",
        "  print(\"Não é equação de segundo grau\")\n",
        "else:\n",
        "  print(f\"o valor de delta é {delta}\")\n",
        "\n",
        "  x1 = -b + math.sqrt(delta)/(2*a)\n",
        "  x2 = -b - math.sqrt(delta)/(2*a)\n",
        "\n",
        "  print(f\"o valor das raízes é de {x1:.2f} e {x2:.2f}\")"
      ],
      "metadata": {
        "colab": {
          "base_uri": "https://localhost:8080/"
        },
        "id": "85qJgk7SEFG8",
        "outputId": "1a75182b-54e0-4a6b-ca27-c3467baecfac"
      },
      "execution_count": null,
      "outputs": [
        {
          "output_type": "stream",
          "name": "stdout",
          "text": [
            "digite o valor de A: 10\n",
            "digite o valor de B: 20\n",
            "digite o valor de C: 30\n",
            "Não há raízes reais\n"
          ]
        }
      ]
    },
    {
      "cell_type": "code",
      "source": [
        "#Um comerciante calcula o valor da venda, tendo em vista a tabela a seguir:\n",
        "\n",
        "#Valor da compra\n",
        "#valor < R$10,00\n",
        "#Valor da venda\n",
        "#lucro de 70%\n",
        "\n",
        "#Valor da compra\n",
        "#R$10,00 <= valor < R$30,00\n",
        "#Valor da venda\n",
        "#lucro de 50%\n",
        "#lucro de 40%\n",
        "#lucro de 30%\n",
        "\n",
        "#Crie uma programa que permita digitar o nome do produto e valor da compra, e imprimindo o nome do produto e o valor da venda.\n",
        "\n",
        "produto = input(\"Digite o nome do produto à venda: \")\n",
        "valorcompra = float(input(\"Digite o valor da compra do produto: \"))\n",
        "\n",
        "if valorcompra < 10:\n",
        "  valorvenda = valorcompra*0.70\n",
        "\n",
        "  print(f\"valor da venda do(a) {produto} é de {valorvenda}\")\n",
        "\n",
        "elif valorcompra >= 10 and valorcompra < 30:\n",
        "  valorvenda = valorcompra*0.50 or valorcompra*0.40 or valorcompra*0.30\n",
        "\n",
        "  print(f\"valor da venda do(a) {produto} é de {valorvenda}\")"
      ],
      "metadata": {
        "colab": {
          "base_uri": "https://localhost:8080/"
        },
        "id": "9AMkhT3CXgAw",
        "outputId": "ab1b55c5-9878-4900-8a72-3d6be3690269"
      },
      "execution_count": null,
      "outputs": [
        {
          "output_type": "stream",
          "name": "stdout",
          "text": [
            "Digite o nome do produto à venda: batata\n",
            "Digite o valor da compra do produto: 15\n",
            "valor da venda do(a) batata é de 7.5\n"
          ]
        }
      ]
    },
    {
      "cell_type": "code",
      "source": [
        "#4- Elabore um programa em Python que implemente uma calculadora com as funções de somar, subtrair, multiplicar e dividir.\n",
        "#O programa deverá solicitar ao usuário os dois valores, e perguntar qual a operação pretendida (‘+’, ‘-‘ , ‘*’ ou ‘/’ )\n",
        "#e a seguir calcular e mostrar o resultado.\n",
        "\n",
        "num1 = float(input(\"Digite o primeiro valor: \"))\n",
        "num2 = float(input(\"Digite o segundo valor: \"))\n",
        "tipo = input(\"Qual a operação pretendida? \")\n",
        "\n",
        "if tipo == \"+\":\n",
        "  soma = num1+num2\n",
        "  print(\"A soma dos valores é de\", soma)\n",
        "\n",
        "elif tipo == \"-\":\n",
        "  subtracao = num1-num2\n",
        "  print(\"A subtração dos valores é de\", subtracao)\n",
        "\n",
        "elif tipo == \"*\":\n",
        "  multiplicacao = num1*num2\n",
        "  print(\"A multiplicação dos valores é de\", multiplicacao)\n",
        "\n",
        "elif tipo == \"/\":\n",
        "  divisao = num1/num2\n",
        "  print(\"A divisão dos valores é de\", divisao)"
      ],
      "metadata": {
        "colab": {
          "base_uri": "https://localhost:8080/"
        },
        "id": "2W9CjOr4bKel",
        "outputId": "0c27948b-e355-4cc2-8d63-1b1d9111c743"
      },
      "execution_count": null,
      "outputs": [
        {
          "output_type": "stream",
          "name": "stdout",
          "text": [
            "Digite o primeiro valor: 5\n",
            "Digite o segundo valor: 5\n",
            "Qual a operação pretendida? /\n",
            "A divisão dos valores é de 1.0\n"
          ]
        }
      ]
    },
    {
      "cell_type": "markdown",
      "source": [
        "**AULA 11/04**"
      ],
      "metadata": {
        "id": "4HsLpS8q_VHL"
      }
    },
    {
      "cell_type": "code",
      "source": [
        "contador = 1\n",
        "while contador <= 10:\n",
        "  nota1 = float(input('Digite a primeira nota do aluno: '))\n",
        "  nota2 = float(input('Digite a segunda nota do aluno: '))\n",
        "  media = (nota1+nota2)/2\n",
        "  contador += 1\n",
        "  print('A média é de:', media)\n"
      ],
      "metadata": {
        "colab": {
          "base_uri": "https://localhost:8080/"
        },
        "id": "CiV2Sms2dHJ5",
        "outputId": "db600507-f05f-4927-a85b-b0cd92a62eaf"
      },
      "execution_count": null,
      "outputs": [
        {
          "output_type": "stream",
          "name": "stdout",
          "text": [
            "Digite a primeira nota do aluno: 5\n",
            "Digite a segunda nota do aluno: 7\n",
            "A média é de: 6.0\n",
            "Digite a primeira nota do aluno: 5\n",
            "Digite a segunda nota do aluno: 7\n",
            "A média é de: 6.0\n",
            "Digite a primeira nota do aluno: 5\n",
            "Digite a segunda nota do aluno: 7\n",
            "A média é de: 6.0\n",
            "Digite a primeira nota do aluno: 5\n",
            "Digite a segunda nota do aluno: 7\n",
            "A média é de: 6.0\n",
            "Digite a primeira nota do aluno: 5\n",
            "Digite a segunda nota do aluno: 7\n",
            "A média é de: 6.0\n",
            "Digite a primeira nota do aluno: 5\n",
            "Digite a segunda nota do aluno: 7\n",
            "A média é de: 6.0\n",
            "Digite a primeira nota do aluno: 5\n",
            "Digite a segunda nota do aluno: 7\n",
            "A média é de: 6.0\n",
            "Digite a primeira nota do aluno: 5\n",
            "Digite a segunda nota do aluno: 7\n",
            "A média é de: 6.0\n",
            "Digite a primeira nota do aluno: 5\n",
            "Digite a segunda nota do aluno: 7\n",
            "A média é de: 6.0\n",
            "Digite a primeira nota do aluno: 5\n",
            "Digite a segunda nota do aluno: 7\n",
            "A média é de: 6.0\n"
          ]
        }
      ]
    },
    {
      "cell_type": "code",
      "source": [
        "binario = input(\"Digite um número binário: \")\n",
        "potencia = len(binario) - 1\n",
        "decimal = 0\n",
        "for digito in binario:\n",
        "  decimal = decimal + int(digito) * 2 ** potencia\n",
        "  potencia = potencia - 1\n",
        "print(\"A conversão do binário %s para decimal é %d\" % (binario, decimal))"
      ],
      "metadata": {
        "colab": {
          "base_uri": "https://localhost:8080/"
        },
        "id": "1Q1Q30ny_XoI",
        "outputId": "46c71c33-bf8f-421b-ce35-c3b1711f1840"
      },
      "execution_count": null,
      "outputs": [
        {
          "output_type": "stream",
          "name": "stdout",
          "text": [
            "Digite um número binário: 0101\n",
            "A conversão do binário 0101 para decimal é 5\n"
          ]
        }
      ]
    },
    {
      "cell_type": "code",
      "source": [
        "contador = 1\n",
        "mediasala = 0\n",
        "while contador <= 5:\n",
        "  nota1 = float(input(f\"Digite aqui a primeira nota do aluno {contador}: \"))\n",
        "  nota2 = float(input(f\"Digite aqui a segunda nota do aluno {contador}: \"))\n",
        "  media = (nota1 + nota2) / 2\n",
        "  print(f\"A média do aluno {contador} é: {media}\")\n",
        "\n",
        "  contador += 1\n",
        "  mediasala += media\n",
        "\n",
        "mediasala /= contador - 1\n",
        "print(f\"A media da sala é: {mediasala}\")\n"
      ],
      "metadata": {
        "colab": {
          "base_uri": "https://localhost:8080/"
        },
        "id": "ZT4ACHKmEdVJ",
        "outputId": "579e7286-c2f2-4fec-901b-9c5abd865a8d"
      },
      "execution_count": null,
      "outputs": [
        {
          "output_type": "stream",
          "name": "stdout",
          "text": [
            "Digite aqui a primeira nota do aluno 1: 4\n",
            "Digite aqui a segunda nota do aluno 1: 6\n",
            "A média do aluno 1 é: 5.0\n",
            "Digite aqui a primeira nota do aluno 2: 4\n",
            "Digite aqui a segunda nota do aluno 2: 6\n",
            "A média do aluno 2 é: 5.0\n",
            "Digite aqui a primeira nota do aluno 3: 4\n",
            "Digite aqui a segunda nota do aluno 3: 6\n",
            "A média do aluno 3 é: 5.0\n",
            "Digite aqui a primeira nota do aluno 4: 4\n",
            "Digite aqui a segunda nota do aluno 4: 6\n",
            "A média do aluno 4 é: 5.0\n",
            "Digite aqui a primeira nota do aluno 5: 4\n",
            "Digite aqui a segunda nota do aluno 5: 6\n",
            "A média do aluno 5 é: 5.0\n",
            "A media da sala é: 5.0\n"
          ]
        }
      ]
    },
    {
      "cell_type": "code",
      "source": [
        "contador = 0\n",
        "soma = 0\n",
        "numero = 0\n",
        "resposta = 0\n",
        "\n",
        "while(resposta != \"s\" or resposta != \"S\" or resposta != \"sim\"):\n",
        "  numero = int(input(\"Digite um número: \"))\n",
        "  print(numero)\n",
        "  soma += numero\n",
        "  contador += 1\n",
        "  resposta = (input(\"Deseja continua (S/N)? \"))\n",
        "  print(\"Sua resposta é:\", resposta)\n",
        "\n",
        "media = soma / contador\n",
        "print(\"A media é de\", media)"
      ],
      "metadata": {
        "colab": {
          "base_uri": "https://localhost:8080/"
        },
        "id": "ttdAsslkQHu6",
        "outputId": "fab4f2a3-e181-4dc0-d6e7-b32b897ca091"
      },
      "execution_count": null,
      "outputs": [
        {
          "output_type": "stream",
          "name": "stdout",
          "text": [
            "Digite um número: 0\n",
            "0\n",
            "Deseja continua (S/N)? s\n",
            "Sua resposta é: s\n",
            "Digite um número: 0\n",
            "0\n",
            "Deseja continua (S/N)? n\n",
            "Sua resposta é: n\n"
          ]
        }
      ]
    },
    {
      "cell_type": "code",
      "source": [
        "contador = 0\n",
        "soma = 0\n",
        "numero = 0\n",
        "\n",
        "while numero != -1:\n",
        "  numero = int(input(\"Digite um número (-1 para terminar): \"))\n",
        "  if numero != -1:\n",
        "    soma += numero\n",
        "    contador += 1\n",
        "media = soma / contador\n",
        "print(\"A media é de\", media)"
      ],
      "metadata": {
        "colab": {
          "base_uri": "https://localhost:8080/"
        },
        "id": "H02qAkMsYP8m",
        "outputId": "e21fa0b6-e632-43f5-8b08-93c953514ccf"
      },
      "execution_count": null,
      "outputs": [
        {
          "output_type": "stream",
          "name": "stdout",
          "text": [
            "Digite um número (-1 para terminar): 10\n",
            "Digite um número (-1 para terminar): -1\n",
            "A media é de 10.0\n"
          ]
        }
      ]
    },
    {
      "cell_type": "markdown",
      "source": [
        "**AULA 18/04**"
      ],
      "metadata": {
        "id": "T_YOtFRVMkeQ"
      }
    },
    {
      "cell_type": "code",
      "source": [
        "import random\n",
        "numero = random.randint (0,100)\n",
        "chute = -1\n",
        "contador = 0\n",
        "\n",
        "while chute != numero:\n",
        "  chute = int(input(\"Digite um número entre 0 e 100: \"))\n",
        "  contador = contador + 1\n",
        "  if numero == chute:\n",
        "    print(f\"Parabéns, você acertou em {contador} tentativas\")\n",
        "  elif numero > chute:\n",
        "    print(\"número maior que chute\")\n",
        "  else:\n",
        "    print(\"numero menor que chute\")"
      ],
      "metadata": {
        "colab": {
          "base_uri": "https://localhost:8080/"
        },
        "id": "v0p2f5hDGqPN",
        "outputId": "d132cf32-f9b3-4d1e-a87f-b78015075695"
      },
      "execution_count": null,
      "outputs": [
        {
          "output_type": "stream",
          "name": "stdout",
          "text": [
            "Digite um número entre 0 e 100: 50\n",
            "numero menor que chute\n",
            "Digite um número entre 0 e 100: 40\n",
            "numero menor que chute\n",
            "Digite um número entre 0 e 100: 30\n",
            "numero menor que chute\n",
            "Digite um número entre 0 e 100: 20\n",
            "número maior que chute\n",
            "Digite um número entre 0 e 100: 25\n",
            "numero menor que chute\n",
            "Digite um número entre 0 e 100: 23\n",
            "numero menor que chute\n",
            "Digite um número entre 0 e 100: 22\n",
            "Parabéns, você acertou em 7 tentativas\n"
          ]
        }
      ]
    },
    {
      "cell_type": "markdown",
      "source": [
        "**ATIVIDADE AULA 6**"
      ],
      "metadata": {
        "id": "aZQJVY5ojKt0"
      }
    },
    {
      "cell_type": "code",
      "source": [
        "#1- Faça um programa em Python que imprima os números pares entre 0 e 100\n",
        "\n",
        "contador = 0\n",
        "\n",
        "while contador <= 100:\n",
        "    print(contador)\n",
        "    contador += 2"
      ],
      "metadata": {
        "colab": {
          "base_uri": "https://localhost:8080/"
        },
        "id": "EOyxFBTvjPC8",
        "outputId": "f586dacc-6cc2-4c64-aa62-7f86974d6d6f"
      },
      "execution_count": null,
      "outputs": [
        {
          "output_type": "stream",
          "name": "stdout",
          "text": [
            "0\n",
            "2\n",
            "4\n",
            "6\n",
            "8\n",
            "10\n",
            "12\n",
            "14\n",
            "16\n",
            "18\n",
            "20\n",
            "22\n",
            "24\n",
            "26\n",
            "28\n",
            "30\n",
            "32\n",
            "34\n",
            "36\n",
            "38\n",
            "40\n",
            "42\n",
            "44\n",
            "46\n",
            "48\n",
            "50\n",
            "52\n",
            "54\n",
            "56\n",
            "58\n",
            "60\n",
            "62\n",
            "64\n",
            "66\n",
            "68\n",
            "70\n",
            "72\n",
            "74\n",
            "76\n",
            "78\n",
            "80\n",
            "82\n",
            "84\n",
            "86\n",
            "88\n",
            "90\n",
            "92\n",
            "94\n",
            "96\n",
            "98\n",
            "100\n"
          ]
        }
      ]
    },
    {
      "cell_type": "code",
      "source": [
        "#2- Faça um programa em Python que imprima os números de 1 a 50 de 1 em 1 e de 52 a 100 de 2 em 2.\n",
        "\n",
        "contador = 1\n",
        "\n",
        "while contador <= 50:\n",
        "  print(contador)\n",
        "  contador += 1\n",
        "  while contador <= 100:\n",
        "    print(contador)\n",
        "    contador += 2"
      ],
      "metadata": {
        "colab": {
          "base_uri": "https://localhost:8080/"
        },
        "id": "ghIk1gmmlQZW",
        "outputId": "b37b417b-31b0-4bba-d945-cd75b6065dad"
      },
      "execution_count": null,
      "outputs": [
        {
          "output_type": "stream",
          "name": "stdout",
          "text": [
            "1\n",
            "2\n",
            "4\n",
            "6\n",
            "8\n",
            "10\n",
            "12\n",
            "14\n",
            "16\n",
            "18\n",
            "20\n",
            "22\n",
            "24\n",
            "26\n",
            "28\n",
            "30\n",
            "32\n",
            "34\n",
            "36\n",
            "38\n",
            "40\n",
            "42\n",
            "44\n",
            "46\n",
            "48\n",
            "50\n",
            "52\n",
            "54\n",
            "56\n",
            "58\n",
            "60\n",
            "62\n",
            "64\n",
            "66\n",
            "68\n",
            "70\n",
            "72\n",
            "74\n",
            "76\n",
            "78\n",
            "80\n",
            "82\n",
            "84\n",
            "86\n",
            "88\n",
            "90\n",
            "92\n",
            "94\n",
            "96\n",
            "98\n",
            "100\n"
          ]
        }
      ]
    }
  ]
}